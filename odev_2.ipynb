{
  "metadata": {
    "language_info": {
      "codemirror_mode": {
        "name": "python",
        "version": 3
      },
      "file_extension": ".py",
      "mimetype": "text/x-python",
      "name": "python",
      "nbconvert_exporter": "python",
      "pygments_lexer": "ipython3",
      "version": "3.8"
    },
    "kernelspec": {
      "name": "python",
      "display_name": "Python (Pyodide)",
      "language": "python"
    }
  },
  "nbformat_minor": 4,
  "nbformat": 4,
  "cells": [
    {
      "cell_type": "code",
      "source": "#Aldığı isim soy isim ile listeye öğrenci ekleyen\nfull_name = ['robert william','edward davidson','chris johnson']\nfull_name.append('salah hussein')\nprint(full_name)\nprint(f'{\"\": ^0}')\nprint(f'{\"\": ^0}') \n\n#Aldığı isim soy isim ile eşleşen değeri listeden kaldıran\nfull_name.pop(3)\nprint(full_name)\nprint(f'{\"\": ^0}')\nprint(f'{\"\": ^0}')\n#Listeye birden fazla öğrenci eklemeyi mümkün kılan\nfull_name.extend(['tom carlos', 'alex sandro'])\nprint(full_name)\nprint(f'{\"\": ^0}')\nprint(f'{\"\": ^0}')\n\n#Listedeki tüm öğrencileri tek tek ekrana yazdıran\nfor i in range(len(full_name)):\n    print(full_name[i])\nprint(f'{\"\": ^0}')\nprint(f'{\"\": ^0}')\n#Öğrencinin listedeki index numarası öğrenci numarası olarak kabul edildiğini düşünerek öğrencinin numarasını öğrenmeyi mümkün kılan\nfor i in range(len(full_name)):\n    print(i)\nprint(f'{\"\": ^0}')\nprint(f'{\"\": ^0}')\n\n#Ödevde kullanacağınız döngülerin bir tanesi for bir tanesi while döngüsü olması istenmektedir.\n\nfor name in full_name:\n    print(max(full_name))\n    break\n\nprint(f'{\"\": ^0}')\n\n#Listeden birden fazla öğrenci silmeyi mümkün kılan (döngü kullanınız)\ni = 0\nwhile i < len(full_name):\n    print(full_name[i])\n    i += 1\n    if full_name[i] <= full_name[4]:\n     break\nprint(f'{\"\": ^0}')\nprint(f'{\"\": ^0}')   \n\n#fonksiyonları geliştiriniz ve her bir fonksiyonu en az bir kere çağırarak konsolda test ediniz.\ntoday = 2023\nbirth_year = 1998\ndef age_calculate() -> int:\n    today = 2023\n    birth_year = 1998\ndef age_calculate(today, birth_year):\n     return int(today) - int(birth_year)\n\nprint(f'{\"\": ^0}')   \nage = age_calculate(today, birth_year)\nprint(f'your age is {age}')\nprint(f'{\"\": ^0}')   \nprint(f'{\"\": ^0}') ",
      "metadata": {
        "trusted": true
      },
      "execution_count": 10,
      "outputs": [
        {
          "name": "stdout",
          "text": "['robert william', 'edward davidson', 'chris johnson', 'salah hussein']\n\n\n['robert william', 'edward davidson', 'chris johnson']\n\n\n['robert william', 'edward davidson', 'chris johnson', 'tom carlos', 'alex sandro']\n\n\nrobert william\nedward davidson\nchris johnson\ntom carlos\nalex sandro\n\n\n0\n1\n2\n3\n4\n\n\ntom carlos\n\nrobert william\nedward davidson\nchris johnson\ntom carlos\n\n\n\nyour age is 25\n\n\n",
          "output_type": "stream"
        }
      ]
    }
  ]
}
