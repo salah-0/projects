{
  "metadata": {
    "language_info": {
      "codemirror_mode": {
        "name": "python",
        "version": 3
      },
      "file_extension": ".py",
      "mimetype": "text/x-python",
      "name": "python",
      "nbconvert_exporter": "python",
      "pygments_lexer": "ipython3",
      "version": "3.8"
    },
    "kernelspec": {
      "name": "python",
      "display_name": "Python (Pyodide)",
      "language": "python"
    }
  },
  "nbformat_minor": 4,
  "nbformat": 4,
  "cells": [
    {
      "cell_type": "raw",
      "source": "# Veri tipler nelerdir? \n# int. => tam sayi olan numirik ifadeler icin kullanilan degisken tipidir\n# str. => harf ifadeler icin kullanilan degisken tipidir\n# float. => ondalikli veya tamsayi olmayan numirik ifadeler icin kullanilan degisken tipidir\n# bool. => iki degisken arasinda dogru veya yanlis seklinde ifade etmek icin kullanilan degisken tipidir \n\n# sik sorulan sorular kisiminda degisken turleri icin bir kac ornek verilebilir bunlardan bazilari:\n# bu kisimda metin olarak yazilan soru ve cevaplar her biri birer str. olarak algilayabiliriz onun\n# disinda yayin saati olarak yazilan 21.00 hem int. olarak hemde flo. olarak algilayabiliriz\n\n# sart bloklarin bir ornegi \"kurslarim \" kisminda verilebilir:",
      "metadata": {}
    },
    {
      "cell_type": "code",
      "source": "tamamlandi = 0\nders_programi = 25\ndegerlendirme = 50\nodev_1 = 75\nodev_2 = 100\nif tamamlandi < ders_programi:\n    print(f\"%{ders_programi} TAMAMLANDI\")\nelif tamamlandi < degerlendirme:\n    print(f\"%{degerlendirme} TAMAMLANDI\")\nelif tamamlandi < odev_1:\n    print(f\"%{odev_1} TAMAMLANDI\")\nelse:\n    print(f\"%{odev_2} TAMAMLANDI\")",
      "metadata": {
        "trusted": true
      },
      "execution_count": 2,
      "outputs": [
        {
          "name": "stdout",
          "text": "%25 TAMAMLANDI\n",
          "output_type": "stream"
        }
      ]
    },
    {
      "cell_type": "code",
      "source": "",
      "metadata": {},
      "execution_count": null,
      "outputs": []
    }
  ]
}